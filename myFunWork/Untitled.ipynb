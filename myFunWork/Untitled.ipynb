{
 "cells": [
  {
   "cell_type": "markdown",
   "metadata": {},
   "source": [
    "# Date-Time Guide for Data Scientist in Python"
   ]
  },
  {
   "cell_type": "markdown",
   "metadata": {},
   "source": [
    "1.1 String to Timestamp<br>\n",
    "\n",
    "When we read a CSV file using pd.read_csv('data.csv') command, pandas reads date column as an object (string). Pandas can be used to convert string to Timestamp object."
   ]
  },
  {
   "cell_type": "code",
   "execution_count": 57,
   "metadata": {},
   "outputs": [],
   "source": [
    "import pandas as pd\n",
    "df = pd.read_csv(r\"D:\\WQU\\WQU\\datacourse_python\\data\\rugby_world_cup_2019.csv\")"
   ]
  },
  {
   "cell_type": "code",
   "execution_count": 58,
   "metadata": {},
   "outputs": [
    {
     "data": {
      "text/html": [
       "<div>\n",
       "<style scoped>\n",
       "    .dataframe tbody tr th:only-of-type {\n",
       "        vertical-align: middle;\n",
       "    }\n",
       "\n",
       "    .dataframe tbody tr th {\n",
       "        vertical-align: top;\n",
       "    }\n",
       "\n",
       "    .dataframe thead th {\n",
       "        text-align: right;\n",
       "    }\n",
       "</style>\n",
       "<table border=\"1\" class=\"dataframe\">\n",
       "  <thead>\n",
       "    <tr style=\"text-align: right;\">\n",
       "      <th></th>\n",
       "      <th>DATE</th>\n",
       "      <th>POOL</th>\n",
       "      <th>MATCH</th>\n",
       "      <th>MATCH.1</th>\n",
       "      <th>MATCH.2</th>\n",
       "      <th>MATCH.3</th>\n",
       "      <th>MATCH.4</th>\n",
       "      <th>KICK-OFFS</th>\n",
       "      <th>VENUE</th>\n",
       "      <th>LIVE BROADCASTS</th>\n",
       "    </tr>\n",
       "  </thead>\n",
       "  <tbody>\n",
       "    <tr>\n",
       "      <td>0</td>\n",
       "      <td>Sept. 20 2019</td>\n",
       "      <td>A</td>\n",
       "      <td>Japan</td>\n",
       "      <td>30</td>\n",
       "      <td>–</td>\n",
       "      <td>10</td>\n",
       "      <td>Russia</td>\n",
       "      <td>19:45</td>\n",
       "      <td>Tokyo Stadium</td>\n",
       "      <td>J-Sports, NTV, BS1</td>\n",
       "    </tr>\n",
       "    <tr>\n",
       "      <td>1</td>\n",
       "      <td>Sept. 21 2019</td>\n",
       "      <td>D</td>\n",
       "      <td>Australia</td>\n",
       "      <td>39</td>\n",
       "      <td>–</td>\n",
       "      <td>21</td>\n",
       "      <td>Fiji</td>\n",
       "      <td>13:45</td>\n",
       "      <td>Sapporo Dome</td>\n",
       "      <td>J-Sports, NTV, BS1</td>\n",
       "    </tr>\n",
       "    <tr>\n",
       "      <td>2</td>\n",
       "      <td>Sept. 21 2019</td>\n",
       "      <td>C</td>\n",
       "      <td>France</td>\n",
       "      <td>23</td>\n",
       "      <td>–</td>\n",
       "      <td>21</td>\n",
       "      <td>Argentina</td>\n",
       "      <td>16:15</td>\n",
       "      <td>Tokyo Stadium</td>\n",
       "      <td>J-Sports</td>\n",
       "    </tr>\n",
       "    <tr>\n",
       "      <td>3</td>\n",
       "      <td>Sept. 21 2019</td>\n",
       "      <td>B</td>\n",
       "      <td>New Zealand</td>\n",
       "      <td>23</td>\n",
       "      <td>–</td>\n",
       "      <td>13</td>\n",
       "      <td>South Africa</td>\n",
       "      <td>18:45</td>\n",
       "      <td>International Stadium Yokohama</td>\n",
       "      <td>J-Sports</td>\n",
       "    </tr>\n",
       "    <tr>\n",
       "      <td>4</td>\n",
       "      <td>Sept. 22 2019</td>\n",
       "      <td>B</td>\n",
       "      <td>Italy</td>\n",
       "      <td>47</td>\n",
       "      <td>–</td>\n",
       "      <td>22</td>\n",
       "      <td>Namibia</td>\n",
       "      <td>14:15</td>\n",
       "      <td>Hanazono Rugby Stadium</td>\n",
       "      <td>J-Sports</td>\n",
       "    </tr>\n",
       "  </tbody>\n",
       "</table>\n",
       "</div>"
      ],
      "text/plain": [
       "             DATE POOL        MATCH MATCH.1 MATCH.2 MATCH.3       MATCH.4  \\\n",
       "0   Sept. 20 2019    A        Japan      30       –      10        Russia   \n",
       "1   Sept. 21 2019    D    Australia      39       –      21          Fiji   \n",
       "2   Sept. 21 2019    C       France      23       –      21     Argentina   \n",
       "3   Sept. 21 2019    B  New Zealand      23       –      13  South Africa   \n",
       "4   Sept. 22 2019    B        Italy      47       –      22       Namibia   \n",
       "\n",
       "  KICK-OFFS                           VENUE     LIVE BROADCASTS  \n",
       "0     19:45                   Tokyo Stadium  J-Sports, NTV, BS1  \n",
       "1     13:45                    Sapporo Dome  J-Sports, NTV, BS1  \n",
       "2     16:15                   Tokyo Stadium            J-Sports  \n",
       "3     18:45  International Stadium Yokohama            J-Sports  \n",
       "4     14:15          Hanazono Rugby Stadium            J-Sports  "
      ]
     },
     "execution_count": 58,
     "metadata": {},
     "output_type": "execute_result"
    }
   ],
   "source": [
    "df.head()"
   ]
  },
  {
   "cell_type": "code",
   "execution_count": 59,
   "metadata": {},
   "outputs": [
    {
     "data": {
      "text/plain": [
       "dtype('O')"
      ]
     },
     "execution_count": 59,
     "metadata": {},
     "output_type": "execute_result"
    }
   ],
   "source": [
    "df.DATE.dtype"
   ]
  },
  {
   "cell_type": "code",
   "execution_count": 60,
   "metadata": {},
   "outputs": [],
   "source": [
    "# Creating date time \n",
    "df[\"DATE\"] = pd.to_datetime(df['DATE']+\" \"+df['KICK-OFFS'])"
   ]
  },
  {
   "cell_type": "code",
   "execution_count": 61,
   "metadata": {},
   "outputs": [
    {
     "data": {
      "text/html": [
       "<div>\n",
       "<style scoped>\n",
       "    .dataframe tbody tr th:only-of-type {\n",
       "        vertical-align: middle;\n",
       "    }\n",
       "\n",
       "    .dataframe tbody tr th {\n",
       "        vertical-align: top;\n",
       "    }\n",
       "\n",
       "    .dataframe thead th {\n",
       "        text-align: right;\n",
       "    }\n",
       "</style>\n",
       "<table border=\"1\" class=\"dataframe\">\n",
       "  <thead>\n",
       "    <tr style=\"text-align: right;\">\n",
       "      <th></th>\n",
       "      <th>DATE</th>\n",
       "      <th>POOL</th>\n",
       "      <th>MATCH</th>\n",
       "      <th>MATCH.1</th>\n",
       "      <th>MATCH.2</th>\n",
       "      <th>MATCH.3</th>\n",
       "      <th>MATCH.4</th>\n",
       "      <th>KICK-OFFS</th>\n",
       "      <th>VENUE</th>\n",
       "      <th>LIVE BROADCASTS</th>\n",
       "    </tr>\n",
       "  </thead>\n",
       "  <tbody>\n",
       "    <tr>\n",
       "      <td>0</td>\n",
       "      <td>2019-09-20 19:45:00</td>\n",
       "      <td>A</td>\n",
       "      <td>Japan</td>\n",
       "      <td>30</td>\n",
       "      <td>–</td>\n",
       "      <td>10</td>\n",
       "      <td>Russia</td>\n",
       "      <td>19:45</td>\n",
       "      <td>Tokyo Stadium</td>\n",
       "      <td>J-Sports, NTV, BS1</td>\n",
       "    </tr>\n",
       "    <tr>\n",
       "      <td>1</td>\n",
       "      <td>2019-09-21 13:45:00</td>\n",
       "      <td>D</td>\n",
       "      <td>Australia</td>\n",
       "      <td>39</td>\n",
       "      <td>–</td>\n",
       "      <td>21</td>\n",
       "      <td>Fiji</td>\n",
       "      <td>13:45</td>\n",
       "      <td>Sapporo Dome</td>\n",
       "      <td>J-Sports, NTV, BS1</td>\n",
       "    </tr>\n",
       "    <tr>\n",
       "      <td>2</td>\n",
       "      <td>2019-09-21 16:15:00</td>\n",
       "      <td>C</td>\n",
       "      <td>France</td>\n",
       "      <td>23</td>\n",
       "      <td>–</td>\n",
       "      <td>21</td>\n",
       "      <td>Argentina</td>\n",
       "      <td>16:15</td>\n",
       "      <td>Tokyo Stadium</td>\n",
       "      <td>J-Sports</td>\n",
       "    </tr>\n",
       "    <tr>\n",
       "      <td>3</td>\n",
       "      <td>2019-09-21 18:45:00</td>\n",
       "      <td>B</td>\n",
       "      <td>New Zealand</td>\n",
       "      <td>23</td>\n",
       "      <td>–</td>\n",
       "      <td>13</td>\n",
       "      <td>South Africa</td>\n",
       "      <td>18:45</td>\n",
       "      <td>International Stadium Yokohama</td>\n",
       "      <td>J-Sports</td>\n",
       "    </tr>\n",
       "    <tr>\n",
       "      <td>4</td>\n",
       "      <td>2019-09-22 14:15:00</td>\n",
       "      <td>B</td>\n",
       "      <td>Italy</td>\n",
       "      <td>47</td>\n",
       "      <td>–</td>\n",
       "      <td>22</td>\n",
       "      <td>Namibia</td>\n",
       "      <td>14:15</td>\n",
       "      <td>Hanazono Rugby Stadium</td>\n",
       "      <td>J-Sports</td>\n",
       "    </tr>\n",
       "  </tbody>\n",
       "</table>\n",
       "</div>"
      ],
      "text/plain": [
       "                 DATE POOL        MATCH MATCH.1 MATCH.2 MATCH.3       MATCH.4  \\\n",
       "0 2019-09-20 19:45:00    A        Japan      30       –      10        Russia   \n",
       "1 2019-09-21 13:45:00    D    Australia      39       –      21          Fiji   \n",
       "2 2019-09-21 16:15:00    C       France      23       –      21     Argentina   \n",
       "3 2019-09-21 18:45:00    B  New Zealand      23       –      13  South Africa   \n",
       "4 2019-09-22 14:15:00    B        Italy      47       –      22       Namibia   \n",
       "\n",
       "  KICK-OFFS                           VENUE     LIVE BROADCASTS  \n",
       "0     19:45                   Tokyo Stadium  J-Sports, NTV, BS1  \n",
       "1     13:45                    Sapporo Dome  J-Sports, NTV, BS1  \n",
       "2     16:15                   Tokyo Stadium            J-Sports  \n",
       "3     18:45  International Stadium Yokohama            J-Sports  \n",
       "4     14:15          Hanazono Rugby Stadium            J-Sports  "
      ]
     },
     "execution_count": 61,
     "metadata": {},
     "output_type": "execute_result"
    }
   ],
   "source": [
    "df.head()"
   ]
  },
  {
   "cell_type": "code",
   "execution_count": null,
   "metadata": {},
   "outputs": [],
   "source": []
  }
 ],
 "metadata": {
  "kernelspec": {
   "display_name": "Python 3",
   "language": "python",
   "name": "python3"
  },
  "language_info": {
   "codemirror_mode": {
    "name": "ipython",
    "version": 3
   },
   "file_extension": ".py",
   "mimetype": "text/x-python",
   "name": "python",
   "nbconvert_exporter": "python",
   "pygments_lexer": "ipython3",
   "version": "3.7.3"
  }
 },
 "nbformat": 4,
 "nbformat_minor": 2
}
